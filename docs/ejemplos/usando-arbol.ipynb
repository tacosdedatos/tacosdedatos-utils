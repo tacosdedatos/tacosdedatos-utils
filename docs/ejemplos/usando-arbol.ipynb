{
 "cells": [
  {
   "cell_type": "markdown",
   "metadata": {},
   "source": [
    "# Como utilizar la función `arbol()`\n",
    "\n",
    "`arbol()` recibe una cadena de caracteres (_string_) o un objeto `Path` de una carpeta y te muestra los contenidos de ella."
   ]
  },
  {
   "cell_type": "code",
   "execution_count": 1,
   "metadata": {},
   "outputs": [],
   "source": [
    "from tacosdedatos_utils.manejo_de_archivos import arbol\n",
    "from pathlib import Path"
   ]
  },
  {
   "cell_type": "code",
   "execution_count": 2,
   "metadata": {},
   "outputs": [
    {
     "name": "stdout",
     "output_type": "stream",
     "text": [
      "+ ../../tacosdedatos_utils\n",
      "    + __init__.py\n",
      "    + __main__.py\n",
      "    + example.py\n",
      "    + manejo_de_archivos.py\n",
      "    + manejo_de_proyectos.py\n",
      "    + py.typed\n"
     ]
    }
   ],
   "source": [
    "arbol(\"../../tacosdedatos_utils/\")"
   ]
  },
  {
   "cell_type": "code",
   "execution_count": 3,
   "metadata": {},
   "outputs": [],
   "source": [
    "ejemplos_dir = Path(\".\")"
   ]
  },
  {
   "cell_type": "code",
   "execution_count": 4,
   "metadata": {},
   "outputs": [
    {
     "name": "stdout",
     "output_type": "stream",
     "text": [
      "+ .\n",
      "        + usando-arbol-checkpoint.ipynb\n",
      "    + index.md\n",
      "    + usando-arbol.ipynb\n"
     ]
    }
   ],
   "source": [
    "arbol(ejemplos_dir)"
   ]
  }
 ],
 "metadata": {
  "kernelspec": {
   "display_name": "Python 3",
   "language": "python",
   "name": "python3"
  },
  "language_info": {
   "codemirror_mode": {
    "name": "ipython",
    "version": 3
   },
   "file_extension": ".py",
   "mimetype": "text/x-python",
   "name": "python",
   "nbconvert_exporter": "python",
   "pygments_lexer": "ipython3",
   "version": "3.7.4"
  }
 },
 "nbformat": 4,
 "nbformat_minor": 4
}
